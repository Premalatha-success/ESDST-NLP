{
 "cells": [
  {
   "cell_type": "markdown",
   "id": "deaaaf6f",
   "metadata": {},
   "source": [
    "### LSTM Model"
   ]
  },
  {
   "cell_type": "code",
   "execution_count": 8,
   "id": "b1db8fa7",
   "metadata": {},
   "outputs": [],
   "source": [
    "### Import libraries\n",
    "import numpy as np\n",
    "from keras.models import Sequential\n",
    "from keras.layers import LSTM,Dense"
   ]
  },
  {
   "cell_type": "code",
   "execution_count": 9,
   "id": "7a2ae111",
   "metadata": {},
   "outputs": [],
   "source": [
    "### Define the Model\n",
    "model=Sequential()\n",
    "model.add(LSTM(units=32,input_shape=(1,5),activation=\"relu\"))\n",
    "model.add(Dense(units=1,activation=\"sigmoid\"))"
   ]
  },
  {
   "cell_type": "code",
   "execution_count": 10,
   "id": "35e295ed",
   "metadata": {},
   "outputs": [],
   "source": [
    "### Compile the Model\n",
    "model.compile(loss=\"binary_crossentropy\",optimizer=\"adam\",metrics=[\"accuracy\"])"
   ]
  },
  {
   "cell_type": "code",
   "execution_count": 12,
   "id": "cbacb3c5",
   "metadata": {},
   "outputs": [],
   "source": [
    "### Define the training data\n",
    "X_train=np.array([[[1,0,1,0,1]],\n",
    "                 [[0,1,0,1,0]],\n",
    "                 [[1,1,0,1,0]],\n",
    "                 [[0,1,1,1,0]]])\n",
    "y_train=np.array([0,0,1,1])\n"
   ]
  },
  {
   "cell_type": "code",
   "execution_count": 13,
   "id": "c43e8fbb",
   "metadata": {},
   "outputs": [
    {
     "data": {
      "text/plain": [
       "<keras.callbacks.History at 0x21b017328b0>"
      ]
     },
     "execution_count": 13,
     "metadata": {},
     "output_type": "execute_result"
    }
   ],
   "source": [
    "### Train the Model\n",
    "model.fit(X_train,y_train,epochs=100,verbose=0)"
   ]
  },
  {
   "cell_type": "code",
   "execution_count": 14,
   "id": "7af9a2e6",
   "metadata": {},
   "outputs": [],
   "source": [
    "### Test the Model\n",
    "X_test=np.array([[[0,1,0,1,0]],\n",
    "                 [[1,0,1,0,1]],\n",
    "                 [[1,1,1,1,0]],\n",
    "                 [[0,1,1,0,1]]])\n",
    "y_test=np.array([0,0,1,1])"
   ]
  },
  {
   "cell_type": "code",
   "execution_count": 16,
   "id": "fa4f9809",
   "metadata": {},
   "outputs": [],
   "source": [
    "loss,accuracy=model.evaluate(X_test,y_test,verbose=0)"
   ]
  },
  {
   "cell_type": "code",
   "execution_count": 17,
   "id": "f64f4dcf",
   "metadata": {},
   "outputs": [
    {
     "data": {
      "text/plain": [
       "0.75"
      ]
     },
     "execution_count": 17,
     "metadata": {},
     "output_type": "execute_result"
    }
   ],
   "source": [
    "accuracy"
   ]
  },
  {
   "cell_type": "code",
   "execution_count": null,
   "id": "22f6292a",
   "metadata": {},
   "outputs": [],
   "source": []
  }
 ],
 "metadata": {
  "kernelspec": {
   "display_name": "Python 3 (ipykernel)",
   "language": "python",
   "name": "python3"
  },
  "language_info": {
   "codemirror_mode": {
    "name": "ipython",
    "version": 3
   },
   "file_extension": ".py",
   "mimetype": "text/x-python",
   "name": "python",
   "nbconvert_exporter": "python",
   "pygments_lexer": "ipython3",
   "version": "3.9.12"
  }
 },
 "nbformat": 4,
 "nbformat_minor": 5
}
