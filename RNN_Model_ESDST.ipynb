{
 "cells": [
  {
   "cell_type": "markdown",
   "id": "b12d6451",
   "metadata": {},
   "source": [
    "### RNN Model"
   ]
  },
  {
   "cell_type": "code",
   "execution_count": 2,
   "id": "0ec4c183",
   "metadata": {},
   "outputs": [],
   "source": [
    "### Import Libraries\n",
    "import numpy as np\n",
    "from keras.models import Sequential\n",
    "from keras.layers import Dense,SimpleRNN"
   ]
  },
  {
   "cell_type": "code",
   "execution_count": 3,
   "id": "393908a8",
   "metadata": {},
   "outputs": [],
   "source": [
    "### Define the RNN Model\n",
    "model=Sequential()\n",
    "model.add(SimpleRNN(units=32,input_shape=(None,1),activation=\"relu\"))\n",
    "model.add(Dense(units=1,activation=\"sigmoid\"))"
   ]
  },
  {
   "cell_type": "code",
   "execution_count": 10,
   "id": "e9ebad0d",
   "metadata": {},
   "outputs": [],
   "source": [
    "### Compile the Model\n",
    "model.compile(loss=\"binary_crossentropy\",optimizer=\"adam\",metrics=[\"accuracy\"])"
   ]
  },
  {
   "cell_type": "code",
   "execution_count": 11,
   "id": "f20c0c3a",
   "metadata": {},
   "outputs": [],
   "source": [
    "### Define the training data\n",
    "X_train=np.array([[[0],[1],[0],[1],[0]],\n",
    "                [[1],[0],[1],[0],[1]],\n",
    "                [[0],[1],[1],[1],[0]],\n",
    "                [[1],[1],[1],[1],[1]]])\n",
    "y_train=np.array([0,0,1,1])"
   ]
  },
  {
   "cell_type": "code",
   "execution_count": 12,
   "id": "8f2ed741",
   "metadata": {},
   "outputs": [
    {
     "data": {
      "text/plain": [
       "<keras.callbacks.History at 0x264fed56940>"
      ]
     },
     "execution_count": 12,
     "metadata": {},
     "output_type": "execute_result"
    }
   ],
   "source": [
    "### Train the Model\n",
    "model.fit(X_train,y_train,epochs=1000,verbose=0)"
   ]
  },
  {
   "cell_type": "code",
   "execution_count": 13,
   "id": "33501dfc",
   "metadata": {},
   "outputs": [],
   "source": [
    "### Test the Model\n",
    "X_test=np.array([[[1],[0],[1],[0],[1]],\n",
    "                [[0],[1],[0],[1],[0]],\n",
    "                [[1],[1],[0],[1],[0]],\n",
    "                [[0],[1],[1],[1],[1]]])"
   ]
  },
  {
   "cell_type": "code",
   "execution_count": 14,
   "id": "c4ed54b8",
   "metadata": {},
   "outputs": [],
   "source": [
    "y_test=np.array([0,0,1,1])"
   ]
  },
  {
   "cell_type": "code",
   "execution_count": 16,
   "id": "985cc87f",
   "metadata": {},
   "outputs": [],
   "source": [
    "loss,accuracy=model.evaluate(X_test,y_test,verbose=0)"
   ]
  },
  {
   "cell_type": "code",
   "execution_count": 17,
   "id": "78fd5db3",
   "metadata": {},
   "outputs": [
    {
     "data": {
      "text/plain": [
       "1.0"
      ]
     },
     "execution_count": 17,
     "metadata": {},
     "output_type": "execute_result"
    }
   ],
   "source": [
    "accuracy"
   ]
  },
  {
   "cell_type": "code",
   "execution_count": null,
   "id": "5ea44569",
   "metadata": {},
   "outputs": [],
   "source": []
  }
 ],
 "metadata": {
  "kernelspec": {
   "display_name": "Python 3 (ipykernel)",
   "language": "python",
   "name": "python3"
  },
  "language_info": {
   "codemirror_mode": {
    "name": "ipython",
    "version": 3
   },
   "file_extension": ".py",
   "mimetype": "text/x-python",
   "name": "python",
   "nbconvert_exporter": "python",
   "pygments_lexer": "ipython3",
   "version": "3.9.12"
  }
 },
 "nbformat": 4,
 "nbformat_minor": 5
}
