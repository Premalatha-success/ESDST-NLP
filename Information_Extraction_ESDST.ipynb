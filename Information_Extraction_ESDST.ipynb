{
 "cells": [
  {
   "cell_type": "code",
   "execution_count": 2,
   "id": "0bcc1721",
   "metadata": {},
   "outputs": [],
   "source": [
    "### import libraries and packages\n",
    "import re\n",
    "import string\n",
    "import nltk\n",
    "import spacy\n",
    "import pandas as pd\n",
    "import math\n",
    "from tqdm import tqdm\n",
    "from spacy.matcher import Matcher\n",
    "from spacy.tokens import Span\n",
    "from spacy import displacy\n",
    "pd.set_option('display.max_colwidth',200)"
   ]
  },
  {
   "cell_type": "code",
   "execution_count": 3,
   "id": "c1b9b288",
   "metadata": {},
   "outputs": [],
   "source": [
    "### load spacy model\n",
    "nlp=spacy.load('en_core_web_sm')"
   ]
  },
  {
   "cell_type": "code",
   "execution_count": 4,
   "id": "af3a1384",
   "metadata": {},
   "outputs": [],
   "source": [
    "### sample data\n",
    "text=\"GDP in developing countries such as Vietnam will continue growing a higher rate\"\n",
    "doc=nlp(text)"
   ]
  },
  {
   "cell_type": "code",
   "execution_count": 6,
   "id": "b083486a",
   "metadata": {},
   "outputs": [
    {
     "name": "stdout",
     "output_type": "stream",
     "text": [
      "GDP --> nsubj --> NOUN\n",
      "in --> prep --> ADP\n",
      "developing --> amod --> VERB\n",
      "countries --> pobj --> NOUN\n",
      "such --> amod --> ADJ\n",
      "as --> prep --> ADP\n",
      "Vietnam --> pobj --> PROPN\n",
      "will --> aux --> AUX\n",
      "continue --> ROOT --> VERB\n",
      "growing --> xcomp --> VERB\n",
      "a --> det --> DET\n",
      "higher --> amod --> ADJ\n",
      "rate --> dobj --> NOUN\n"
     ]
    }
   ],
   "source": [
    "### print token,dependency and POS tag\n",
    "for tok in doc:\n",
    "    print(tok.text,\"-->\",tok.dep_,\"-->\",tok.pos_)"
   ]
  },
  {
   "cell_type": "code",
   "execution_count": 10,
   "id": "3ce5de77",
   "metadata": {},
   "outputs": [],
   "source": [
    "### Define the pattern\n",
    "pattern=[{'POS':'NOUN'},\n",
    "        {'LOWER':'Such'},\n",
    "        {'LOWER':'as'},\n",
    "        {'POS':'PROPN'}]"
   ]
  },
  {
   "cell_type": "code",
   "execution_count": 11,
   "id": "9fe7535b",
   "metadata": {},
   "outputs": [
    {
     "ename": "IndexError",
     "evalue": "list index out of range",
     "output_type": "error",
     "traceback": [
      "\u001b[1;31m---------------------------------------------------------------------------\u001b[0m",
      "\u001b[1;31mIndexError\u001b[0m                                Traceback (most recent call last)",
      "Input \u001b[1;32mIn [11]\u001b[0m, in \u001b[0;36m<cell line: 5>\u001b[1;34m()\u001b[0m\n\u001b[0;32m      3\u001b[0m matcher\u001b[38;5;241m.\u001b[39madd(\u001b[38;5;124m\"\u001b[39m\u001b[38;5;124mmatching_1\u001b[39m\u001b[38;5;124m\"\u001b[39m,[pattern])\n\u001b[0;32m      4\u001b[0m matches\u001b[38;5;241m=\u001b[39mmatcher(doc)\n\u001b[1;32m----> 5\u001b[0m span\u001b[38;5;241m=\u001b[39mdoc[\u001b[43mmatches\u001b[49m\u001b[43m[\u001b[49m\u001b[38;5;241;43m0\u001b[39;49m\u001b[43m]\u001b[49m[\u001b[38;5;241m1\u001b[39m]:matches[\u001b[38;5;241m0\u001b[39m][\u001b[38;5;241m2\u001b[39m]]\n",
      "\u001b[1;31mIndexError\u001b[0m: list index out of range"
     ]
    }
   ],
   "source": [
    "### Matcher class object\n",
    "matcher=Matcher(nlp.vocab)\n",
    "matcher.add(\"matching_1\",[pattern])\n",
    "matches=matcher(doc)\n",
    "span=doc[matches[0][1]:matches[0][2]]"
   ]
  },
  {
   "cell_type": "code",
   "execution_count": null,
   "id": "5fefd0a7",
   "metadata": {},
   "outputs": [],
   "source": []
  }
 ],
 "metadata": {
  "kernelspec": {
   "display_name": "Python 3 (ipykernel)",
   "language": "python",
   "name": "python3"
  },
  "language_info": {
   "codemirror_mode": {
    "name": "ipython",
    "version": 3
   },
   "file_extension": ".py",
   "mimetype": "text/x-python",
   "name": "python",
   "nbconvert_exporter": "python",
   "pygments_lexer": "ipython3",
   "version": "3.9.12"
  }
 },
 "nbformat": 4,
 "nbformat_minor": 5
}
