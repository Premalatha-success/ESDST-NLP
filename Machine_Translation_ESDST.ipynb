{
 "cells": [
  {
   "cell_type": "markdown",
   "id": "175e1cbf",
   "metadata": {},
   "source": [
    "#### sequence-to-sequence\n",
    "#### encoder\n",
    "#### decoder\n",
    "\n",
    "\n",
    "input   -> Embeddings -> Encoder -> Decoder -> Dense -> output"
   ]
  },
  {
   "cell_type": "code",
   "execution_count": 3,
   "id": "396c05bb",
   "metadata": {},
   "outputs": [],
   "source": [
    "## import libraries and packages\n",
    "import string\n",
    "import re\n",
    "from numpy import array,argmax,random,take\n",
    "import pandas as pd\n",
    "from keras.models import Sequential\n",
    "from keras.layers import Dense,LSTM,Embedding,RepeatVector\n",
    "from keras.preprocessing.text import Tokenizer\n",
    "from keras.callbacks import ModelCheckpoint\n",
    "from tensorflow.keras.preprocessing.sequence import pad_sequences\n",
    "from keras.models import load_model\n",
    "from keras import optimizers\n",
    "import matplotlib.pyplot as plt\n",
    "%matplotlib inline\n",
    "pd.set_option(\"display.max_colwidth\",200)"
   ]
  },
  {
   "cell_type": "code",
   "execution_count": 4,
   "id": "54631420",
   "metadata": {},
   "outputs": [],
   "source": [
    "## function to read raw text file\n",
    "def read_text(filename):\n",
    "    file=open(filename,mode=\"rt\",encoding='utf-8')\n",
    "    text=file.read()\n",
    "    file.close()\n",
    "    return text"
   ]
  },
  {
   "cell_type": "code",
   "execution_count": 5,
   "id": "a0c2166d",
   "metadata": {},
   "outputs": [],
   "source": [
    "### split the text into sentences\n",
    "def to_lines(text):\n",
    "    sents=text.strip().split('\\n')\n",
    "    sents=[i.split('\\t') for i in sents]\n",
    "    return sents"
   ]
  },
  {
   "cell_type": "code",
   "execution_count": 6,
   "id": "44d7e680",
   "metadata": {},
   "outputs": [],
   "source": [
    "data=read_text('deu.txt')\n",
    "deu_eng=to_lines(data)\n",
    "deu_eng=array(deu_eng)"
   ]
  },
  {
   "cell_type": "code",
   "execution_count": 7,
   "id": "f4607bff",
   "metadata": {},
   "outputs": [],
   "source": [
    "deu_eng=deu_eng[:50000,:]"
   ]
  },
  {
   "cell_type": "code",
   "execution_count": 8,
   "id": "b9a6de05",
   "metadata": {},
   "outputs": [
    {
     "data": {
      "text/plain": [
       "array([['Hi.', 'Hallo!'],\n",
       "       ['Hi.', 'Grüß Gott!'],\n",
       "       ['Run!', 'Lauf!'],\n",
       "       ...,\n",
       "       ['I like listening to music.', 'Ich höre gerne Musik.'],\n",
       "       ['I like playing basketball.', 'Ich spiele gern Basketball.'],\n",
       "       [\"I like reading Tom's blog.\",\n",
       "        'Ich lese gern in Toms Netztagebuch.']], dtype='<U380')"
      ]
     },
     "execution_count": 8,
     "metadata": {},
     "output_type": "execute_result"
    }
   ],
   "source": [
    "deu_eng"
   ]
  },
  {
   "cell_type": "code",
   "execution_count": 9,
   "id": "2f0e3eac",
   "metadata": {},
   "outputs": [],
   "source": [
    "#### Remove punctuation\n",
    "deu_eng[:,0]=[s.translate(str.maketrans('','',string.punctuation)) for s in deu_eng[:,0]]\n",
    "deu_eng[:,1]=[s.translate(str.maketrans('','',string.punctuation)) for s in deu_eng[:,1]]"
   ]
  },
  {
   "cell_type": "code",
   "execution_count": 10,
   "id": "9ddf0c9a",
   "metadata": {},
   "outputs": [
    {
     "data": {
      "text/plain": [
       "array([['Hi', 'Hallo'],\n",
       "       ['Hi', 'Grüß Gott'],\n",
       "       ['Run', 'Lauf'],\n",
       "       ...,\n",
       "       ['I like listening to music', 'Ich höre gerne Musik'],\n",
       "       ['I like playing basketball', 'Ich spiele gern Basketball'],\n",
       "       ['I like reading Toms blog', 'Ich lese gern in Toms Netztagebuch']],\n",
       "      dtype='<U380')"
      ]
     },
     "execution_count": 10,
     "metadata": {},
     "output_type": "execute_result"
    }
   ],
   "source": [
    "deu_eng"
   ]
  },
  {
   "cell_type": "code",
   "execution_count": 11,
   "id": "1ed742c9",
   "metadata": {},
   "outputs": [],
   "source": [
    "### convert to lowercase\n",
    "for i in range(len(deu_eng)):\n",
    "    deu_eng[i,0]=deu_eng[i,0].lower()\n",
    "    deu_eng[i,1]=deu_eng[i,1].lower()"
   ]
  },
  {
   "cell_type": "code",
   "execution_count": 12,
   "id": "c3ce31ff",
   "metadata": {},
   "outputs": [
    {
     "data": {
      "text/plain": [
       "array([['hi', 'hallo'],\n",
       "       ['hi', 'grüß gott'],\n",
       "       ['run', 'lauf'],\n",
       "       ...,\n",
       "       ['i like listening to music', 'ich höre gerne musik'],\n",
       "       ['i like playing basketball', 'ich spiele gern basketball'],\n",
       "       ['i like reading toms blog', 'ich lese gern in toms netztagebuch']],\n",
       "      dtype='<U380')"
      ]
     },
     "execution_count": 12,
     "metadata": {},
     "output_type": "execute_result"
    }
   ],
   "source": [
    "deu_eng"
   ]
  },
  {
   "cell_type": "markdown",
   "id": "a218d427",
   "metadata": {},
   "source": [
    "### Text to sequence conversion"
   ]
  },
  {
   "cell_type": "code",
   "execution_count": 13,
   "id": "869b3d00",
   "metadata": {},
   "outputs": [],
   "source": [
    "### empty lists\n",
    "eng_l=[]\n",
    "deu_l=[]"
   ]
  },
  {
   "cell_type": "code",
   "execution_count": 14,
   "id": "e75278e7",
   "metadata": {},
   "outputs": [],
   "source": [
    "## Populate the lists with sentence lengths\n",
    "for i in deu_eng[:,0]:\n",
    "    eng_l.append(len(i.split()))\n",
    "for i in deu_eng[:,1]:\n",
    "    deu_l.append(len(i.split()))"
   ]
  },
  {
   "cell_type": "code",
   "execution_count": 15,
   "id": "33e94d73",
   "metadata": {},
   "outputs": [],
   "source": [
    "length_df=pd.DataFrame({'eng':eng_l,'deu':deu_l})"
   ]
  },
  {
   "cell_type": "code",
   "execution_count": 16,
   "id": "4b742e1e",
   "metadata": {},
   "outputs": [
    {
     "data": {
      "image/png": "[encoded data removed]",
      "text/plain": [
       "<Figure size 432x288 with 2 Axes>"
      ]
     },
     "metadata": {
      "needs_background": "light"
     },
     "output_type": "display_data"
    }
   ],
   "source": [
    "length_df.hist(bins=30)\n",
    "plt.show()"
   ]
  },
  {
   "cell_type": "code",
   "execution_count": 17,
   "id": "0705fc63",
   "metadata": {},
   "outputs": [],
   "source": [
    "### build a tokenizer\n",
    "def tokenization(lines):\n",
    "    tokenizer=Tokenizer()\n",
    "    tokenizer.fit_on_texts(lines)\n",
    "    return tokenizer\n"
   ]
  },
  {
   "cell_type": "code",
   "execution_count": 18,
   "id": "f471ef5a",
   "metadata": {},
   "outputs": [
    {
     "data": {
      "text/plain": [
       "6794"
      ]
     },
     "execution_count": 18,
     "metadata": {},
     "output_type": "execute_result"
    }
   ],
   "source": [
    "## prepare english tokenizer\n",
    "eng_tokenizer=tokenization(deu_eng[:,0])\n",
    "eng_vocab_size=len(eng_tokenizer.word_index)+1\n",
    "eng_length=8\n",
    "eng_vocab_size"
   ]
  },
  {
   "cell_type": "code",
   "execution_count": 19,
   "id": "3a600cd2",
   "metadata": {},
   "outputs": [
    {
     "data": {
      "text/plain": [
       "11814"
      ]
     },
     "execution_count": 19,
     "metadata": {},
     "output_type": "execute_result"
    }
   ],
   "source": [
    "### Prepare Deutch tokenizer\n",
    "deu_tokenizer=tokenization(deu_eng[:,1])\n",
    "deu_vocab_size=len(deu_tokenizer.word_index)+1\n",
    "deu_length=8\n",
    "deu_vocab_size"
   ]
  },
  {
   "cell_type": "code",
   "execution_count": 20,
   "id": "04943618",
   "metadata": {},
   "outputs": [],
   "source": [
    "### Function to prepare the sequences\n",
    "## encode and pad sequences\n",
    "def encode_sequences(tokenizer,length,lines):\n",
    "    seq=tokenizer.texts_to_sequences(lines)\n",
    "    seq=pad_sequences(seq,maxlen=length,padding=\"post\")\n",
    "    return seq"
   ]
  },
  {
   "cell_type": "markdown",
   "id": "cc14dffa",
   "metadata": {},
   "source": [
    "### Model Building"
   ]
  },
  {
   "cell_type": "code",
   "execution_count": 21,
   "id": "d56d607e",
   "metadata": {},
   "outputs": [],
   "source": [
    "from sklearn.model_selection import train_test_split\n",
    "train,test=train_test_split(deu_eng,test_size=0.2,random_state=12)"
   ]
  },
  {
   "cell_type": "code",
   "execution_count": 22,
   "id": "78fe0314",
   "metadata": {},
   "outputs": [],
   "source": [
    "### prepare training data\n",
    "trainX=encode_sequences(deu_tokenizer,deu_length,train[:,1])\n",
    "trainY=encode_sequences(eng_tokenizer,eng_length,train[:,0])\n"
   ]
  },
  {
   "cell_type": "code",
   "execution_count": 23,
   "id": "e1f1cbfa",
   "metadata": {},
   "outputs": [],
   "source": [
    "### prepare validation data\n",
    "testX=encode_sequences(deu_tokenizer,deu_length,test[:,1])\n",
    "testY=encode_sequences(eng_tokenizer,eng_length,test[:,0])\n"
   ]
  },
  {
   "cell_type": "code",
   "execution_count": 24,
   "id": "f8082f8f",
   "metadata": {},
   "outputs": [],
   "source": [
    "def build_model(in_vocab, out_vocab, in_timesteps, out_timesteps, units):\n",
    "    model = Sequential()\n",
    "    model.add(Embedding(in_vocab, units, input_length=in_timesteps, mask_zero=True))\n",
    "    model.add(LSTM(units))\n",
    "    model.add(RepeatVector(out_timesteps))\n",
    "    model.add(LSTM(units, return_sequences=True))\n",
    "    model.add(Dense(out_vocab, activation='softmax'))\n",
    "    return model"
   ]
  },
  {
   "cell_type": "code",
   "execution_count": 25,
   "id": "ba50ae36",
   "metadata": {},
   "outputs": [],
   "source": [
    "model=build_model(deu_vocab_size,eng_vocab_size,deu_length,eng_length,512)"
   ]
  },
  {
   "cell_type": "code",
   "execution_count": 26,
   "id": "40e06f1b",
   "metadata": {},
   "outputs": [],
   "source": [
    "rms=optimizers.RMSprop(learning_rate=0.001)\n",
    "model.compile(optimizer=rms,loss=\"sparse_categorical_crossentropy\")"
   ]
  },
  {
   "cell_type": "code",
   "execution_count": 27,
   "id": "504f90d0",
   "metadata": {},
   "outputs": [],
   "source": [
    "filename='model.h1'"
   ]
  },
  {
   "cell_type": "code",
   "execution_count": 28,
   "id": "02d70a4e",
   "metadata": {},
   "outputs": [],
   "source": [
    "checkpoint=ModelCheckpoint(filename,monitor=\"val_loss\",verbose=1,save_best_only=True,mode=\"min\")"
   ]
  },
  {
   "cell_type": "code",
   "execution_count": 29,
   "id": "09f2165b",
   "metadata": {},
   "outputs": [
    {
     "name": "stdout",
     "output_type": "stream",
     "text": [
      "Epoch 1/2\n",
      "63/63 [==============================] - ETA: 0s - loss: 3.8568\n",
      "Epoch 1: val_loss improved from inf to 3.26248, saving model to model.h1\n"
     ]
    },
    {
     "name": "stderr",
     "output_type": "stream",
     "text": [
      "WARNING:absl:Found untraced functions such as lstm_cell_layer_call_fn, lstm_cell_layer_call_and_return_conditional_losses, lstm_cell_1_layer_call_fn, lstm_cell_1_layer_call_and_return_conditional_losses while saving (showing 4 of 4). These functions will not be directly callable after loading.\n"
     ]
    },
    {
     "name": "stdout",
     "output_type": "stream",
     "text": [
      "INFO:tensorflow:Assets written to: model.h1\\assets\n"
     ]
    },
    {
     "name": "stderr",
     "output_type": "stream",
     "text": [
      "INFO:tensorflow:Assets written to: model.h1\\assets\n"
     ]
    },
    {
     "name": "stdout",
     "output_type": "stream",
     "text": [
      "63/63 [==============================] - 427s 6s/step - loss: 3.8568 - val_loss: 3.2625\n",
      "Epoch 2/2\n",
      "63/63 [==============================] - ETA: 0s - loss: 3.2114\n",
      "Epoch 2: val_loss improved from 3.26248 to 3.18225, saving model to model.h1\n"
     ]
    },
    {
     "name": "stderr",
     "output_type": "stream",
     "text": [
      "WARNING:absl:Found untraced functions such as lstm_cell_layer_call_fn, lstm_cell_layer_call_and_return_conditional_losses, lstm_cell_1_layer_call_fn, lstm_cell_1_layer_call_and_return_conditional_losses while saving (showing 4 of 4). These functions will not be directly callable after loading.\n"
     ]
    },
    {
     "name": "stdout",
     "output_type": "stream",
     "text": [
      "INFO:tensorflow:Assets written to: model.h1\\assets\n"
     ]
    },
    {
     "name": "stderr",
     "output_type": "stream",
     "text": [
      "INFO:tensorflow:Assets written to: model.h1\\assets\n"
     ]
    },
    {
     "name": "stdout",
     "output_type": "stream",
     "text": [
      "\b\b\b\b\b\b\b\b\b\b\b\b\b\b\b\b\b\b\b\b\b\b\b\b\b\b\b\b\b\b\b\b\b\b\b\b\b\b\b\b\b\b\b\b\b\b\b\b\b\b\b\b\b\b\b\b\b\b\b\b\b\b\b\r",
      "63/63 [==============================] - 327s 5s/step - loss: 3.2114 - val_loss: 3.1822\n"
     ]
    }
   ],
   "source": [
    "history=model.fit(trainX,trainY.reshape(trainY.shape[0],trainY.shape[1],1),\n",
    "                 epochs=2,batch_size=512,validation_split=0.2,callbacks=[checkpoint],verbose=1)"
   ]
  },
  {
   "cell_type": "code",
   "execution_count": 30,
   "id": "d5034344",
   "metadata": {},
   "outputs": [
    {
     "data": {
      "image/png": "[encoded data removed]",
      "text/plain": [
       "<Figure size 432x288 with 1 Axes>"
      ]
     },
     "metadata": {
      "needs_background": "light"
     },
     "output_type": "display_data"
    }
   ],
   "source": [
    "plt.plot(history.history['loss'])\n",
    "plt.plot(history.history['val_loss'])\n",
    "plt.legend(['train','validation'])\n",
    "plt.show()"
   ]
  },
  {
   "cell_type": "code",
   "execution_count": 33,
   "id": "6d82dd26",
   "metadata": {},
   "outputs": [
    {
     "name": "stdout",
     "output_type": "stream",
     "text": [
      "313/313 [==============================] - 62s 174ms/step\n"
     ]
    }
   ],
   "source": [
    "model = load_model('model.h1')\n",
    "preds = model.predict(testX.reshape((testX.shape[0],testX.shape[1])))"
   ]
  },
  {
   "cell_type": "code",
   "execution_count": null,
   "id": "1e857dfe",
   "metadata": {},
   "outputs": [],
   "source": []
  },
  {
   "cell_type": "code",
   "execution_count": null,
   "id": "4781dc1a",
   "metadata": {},
   "outputs": [],
   "source": []
  }
 ],
 "metadata": {
  "kernelspec": {
   "display_name": "Python 3 (ipykernel)",
   "language": "python",
   "name": "python3"
  },
  "language_info": {
   "codemirror_mode": {
    "name": "ipython",
    "version": 3
   },
   "file_extension": ".py",
   "mimetype": "text/x-python",
   "name": "python",
   "nbconvert_exporter": "python",
   "pygments_lexer": "ipython3",
   "version": "3.9.12"
  }
 },
 "nbformat": 4,
 "nbformat_minor": 5
}
