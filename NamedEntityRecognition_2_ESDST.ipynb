{
 "cells": [
  {
   "cell_type": "code",
   "execution_count": 1,
   "id": "6117840e",
   "metadata": {},
   "outputs": [
    {
     "name": "stderr",
     "output_type": "stream",
     "text": [
      "[nltk_data] Downloading package punkt to\n",
      "[nltk_data]     C:\\Users\\Premalatha\\AppData\\Roaming\\nltk_data...\n",
      "[nltk_data]   Package punkt is already up-to-date!\n",
      "[nltk_data] Downloading package averaged_perceptron_tagger to\n",
      "[nltk_data]     C:\\Users\\Premalatha\\AppData\\Roaming\\nltk_data...\n",
      "[nltk_data]   Package averaged_perceptron_tagger is already up-to-\n",
      "[nltk_data]       date!\n",
      "[nltk_data] Downloading package maxent_ne_chunker to\n",
      "[nltk_data]     C:\\Users\\Premalatha\\AppData\\Roaming\\nltk_data...\n",
      "[nltk_data]   Package maxent_ne_chunker is already up-to-date!\n",
      "[nltk_data] Downloading package words to\n",
      "[nltk_data]     C:\\Users\\Premalatha\\AppData\\Roaming\\nltk_data...\n",
      "[nltk_data]   Package words is already up-to-date!\n",
      "[nltk_data] Downloading package brown to\n",
      "[nltk_data]     C:\\Users\\Premalatha\\AppData\\Roaming\\nltk_data...\n",
      "[nltk_data]   Package brown is already up-to-date!\n"
     ]
    }
   ],
   "source": [
    "import nltk\n",
    "from nltk.corpus import brown\n",
    "from nltk import sent_tokenize, word_tokenize\n",
    "nltk.download('punkt') # for tokenize\n",
    "nltk.download('averaged_perceptron_tagger') # for pos tag\n",
    "nltk.download('maxent_ne_chunker') # for named entity chunk\n",
    "nltk.download('words') # for chunk extraction\n",
    "nltk.download('brown')\n",
    "from collections import defaultdict\n",
    "from matplotlib import pyplot as plt\n",
    "import re"
   ]
  },
  {
   "cell_type": "code",
   "execution_count": 2,
   "id": "c3b7c31b",
   "metadata": {},
   "outputs": [
    {
     "data": {
      "text/plain": [
       "['adventure',\n",
       " 'belles_lettres',\n",
       " 'editorial',\n",
       " 'fiction',\n",
       " 'government',\n",
       " 'hobbies',\n",
       " 'humor',\n",
       " 'learned',\n",
       " 'lore',\n",
       " 'mystery',\n",
       " 'news',\n",
       " 'religion',\n",
       " 'reviews',\n",
       " 'romance',\n",
       " 'science_fiction']"
      ]
     },
     "execution_count": 2,
     "metadata": {},
     "output_type": "execute_result"
    }
   ],
   "source": [
    "brown.categories()"
   ]
  },
  {
   "cell_type": "code",
   "execution_count": 3,
   "id": "b882f5b8",
   "metadata": {},
   "outputs": [],
   "source": [
    "# Get a list of the files in the \"news\" category\n",
    "news_fileids = brown.fileids(categories='news')\n",
    "\n",
    "# Get the words in those files\n",
    "article = brown.words(fileids=news_fileids)\n",
    "article = ' '.join(article)\n",
    "     "
   ]
  },
  {
   "cell_type": "code",
   "execution_count": 4,
   "id": "9e46f8e2",
   "metadata": {},
   "outputs": [
    {
     "data": {
      "text/plain": [
       "\"The Fulton County Grand Jury said Friday an investigation of Atlanta's recent primary election produ\""
      ]
     },
     "execution_count": 4,
     "metadata": {},
     "output_type": "execute_result"
    }
   ],
   "source": [
    "\n",
    "article = article.replace(\" '' \", '').replace('``','' ).replace(' . ', '')\n",
    "article[:100]"
   ]
  },
  {
   "cell_type": "code",
   "execution_count": 5,
   "id": "def17de2",
   "metadata": {},
   "outputs": [
    {
     "name": "stdout",
     "output_type": "stream",
     "text": [
      "The Fulton County Grand Jury said Friday an investigation of Atlanta's recent primary election produced  no evidencethat any irregularities took placeThe jury further said in term-end presentments that the City Executive Committee , which had over-all charge of the election ,  deserves the praise and thanks of the City of Atlantafor the manner in which the election was conductedThe September-October term jury had been charged by Fulton Superior Court Judge Durwood Pye to investigate reports of possible  irregularitiesin the hard-fought primary which was won by Mayor-nominate Ivan Allen Jr. Only a relative handful of such reports was received, the jury said ,  considering the widespread interest in the election , the number of voters and the size of this city.\n",
      "The jury said it did find that many of Georgia's registration and election laws  are outmoded or inadequate and often ambiguous.\n",
      "It recommended that Fulton legislators act  to have these laws studied and revised to the end of modernizing and improving them.\n"
     ]
    }
   ],
   "source": [
    "# Tokenize the article into sentences: sentences\n",
    "sentences = sent_tokenize(article) \n",
    "for sent in sentences[:3]:\n",
    "  print(sent)"
   ]
  },
  {
   "cell_type": "code",
   "execution_count": 6,
   "id": "1a3b55c1",
   "metadata": {},
   "outputs": [
    {
     "name": "stdout",
     "output_type": "stream",
     "text": [
      "The Fulton County Grand Jury said Friday an investigation of Atlanta's recent primary election produced  no evidencethat any irregularities took placeThe jury further said in term-end presentments that the City Executive Committee , which had over-all charge of the election ,  deserves the praise and thanks of the City of Atlantafor the manner in which the election was conductedThe September-October term jury had been charged by Fulton Superior Court Judge Durwood Pye to investigate reports of possible  irregularitiesin the hard-fought primary which was won by Mayor-nominate Ivan Allen Jr. Only a relative handful of such reports was received, the jury said ,  considering the widespread interest in the election , the number of voters and the size of this city.\n",
      "The jury said it did find that many of Georgia's registration and election laws  are outmoded or inadequate and often ambiguous.\n",
      "It recommended that Fulton legislators act  to have these laws studied and revised to the end of modernizing and improving them.\n"
     ]
    }
   ],
   "source": [
    "# Tokenize the article into sentences: sentences\n",
    "sentences = sent_tokenize(article) \n",
    "for sent in sentences[:3]:\n",
    "  print(sent)"
   ]
  },
  {
   "cell_type": "code",
   "execution_count": 7,
   "id": "65a148b6",
   "metadata": {},
   "outputs": [
    {
     "name": "stdout",
     "output_type": "stream",
     "text": [
      "['The', 'jury', 'said', 'it', 'did', 'find', 'that', 'many', 'of', 'Georgia', \"'s\", 'registration', 'and', 'election', 'laws', 'are', 'outmoded', 'or', 'inadequate', 'and', 'often', 'ambiguous', '.']\n"
     ]
    }
   ],
   "source": [
    "# Tokenize each sentence into words: token_sentences\n",
    "token_sentences = [word_tokenize(sent) for sent in sentences]\n",
    "print(token_sentences[1])"
   ]
  },
  {
   "cell_type": "code",
   "execution_count": 8,
   "id": "07a3d2db",
   "metadata": {},
   "outputs": [
    {
     "name": "stdout",
     "output_type": "stream",
     "text": [
      "PERSON\n",
      "GPE\n",
      "PERSON\n",
      "GPE\n",
      "ORGANIZATION\n",
      "GPE\n",
      "PERSON\n"
     ]
    }
   ],
   "source": [
    "# Tag each tokenized sentence into parts of speech: pos_sentences\n",
    "pos_sentences = [nltk.pos_tag(sent) for sent in token_sentences] \n",
    "\n",
    "# Create the named entity chunks: chunked_sentences\n",
    "chunked_sentences = nltk.ne_chunk_sents(pos_sentences)\n",
    "\n",
    "# Create the defaultdict: ner_categories\n",
    "ner_categories = defaultdict(int)\n",
    "\n",
    "# Create the nested for loop\n",
    "count = 0\n",
    "for sent in chunked_sentences:\n",
    "    for chunk in sent:\n",
    "        if hasattr(chunk, \"label\"):\n",
    "            count += 1\n",
    "            if count % 1000 == 0:\n",
    "                print(chunk.label())\n",
    "            ner_categories[chunk.label()] += 1"
   ]
  },
  {
   "cell_type": "code",
   "execution_count": 9,
   "id": "dbcd1d53",
   "metadata": {},
   "outputs": [
    {
     "name": "stdout",
     "output_type": "stream",
     "text": [
      "PERSON\n",
      "GPE\n",
      "PERSON\n",
      "GPE\n",
      "ORGANIZATION\n",
      "GPE\n",
      "PERSON\n"
     ]
    }
   ],
   "source": [
    "# Tag each tokenized sentence into parts of speech: pos_sentences\n",
    "pos_sentences = [nltk.pos_tag(sent) for sent in token_sentences] \n",
    "\n",
    "# Create the named entity chunks: chunked_sentences\n",
    "chunked_sentences = nltk.ne_chunk_sents(pos_sentences)\n",
    "\n",
    "# Create the defaultdict: ner_categories\n",
    "ner_categories = defaultdict(int)\n",
    "\n",
    "# Create the nested for loop\n",
    "count = 0\n",
    "for sent in chunked_sentences:\n",
    "    for chunk in sent:\n",
    "        if hasattr(chunk, \"label\"):\n",
    "            count += 1\n",
    "            if count % 1000 == 0:\n",
    "                print(chunk.label())\n",
    "            ner_categories[chunk.label()] += 1"
   ]
  },
  {
   "cell_type": "code",
   "execution_count": 10,
   "id": "96289261",
   "metadata": {},
   "outputs": [
    {
     "name": "stdout",
     "output_type": "stream",
     "text": [
      "{'ORGANIZATION', 'LOCATION', 'GSP', 'FACILITY', 'PERSON', 'GPE'}\n"
     ]
    }
   ],
   "source": [
    "print(set(ner_categories))"
   ]
  },
  {
   "cell_type": "code",
   "execution_count": 11,
   "id": "a5331aea",
   "metadata": {},
   "outputs": [
    {
     "data": {
      "image/png": "[encoded data removed]",
      "text/plain": [
       "<Figure size 864x576 with 1 Axes>"
      ]
     },
     "metadata": {
      "needs_background": "light"
     },
     "output_type": "display_data"
    }
   ],
   "source": [
    "# Create a list from the dictionary keys for the chart labels: labels\n",
    "labels = list(ner_categories.keys())\n",
    "\n",
    "# Create a list of the values: values\n",
    "values = [ner_categories.get(v) for v in labels]\n",
    "\n",
    "# Create the pie chart\n",
    "fig, ax = plt.subplots(figsize=(12, 8))\n",
    "ax.barh(labels, values)\n",
    "ax.invert_yaxis()\n",
    "ax.set_xlabel('Count')\n",
    "ax.set_title('Named Entity Counts')\n",
    "\n",
    "# Display the chart\n",
    "plt.show()"
   ]
  },
  {
   "cell_type": "code",
   "execution_count": 12,
   "id": "537ad8b1",
   "metadata": {},
   "outputs": [],
   "source": [
    "# Import spacy\n",
    "import spacy\n",
    "\n",
    "# Instantiate the English model: nlp\n",
    "nlp = spacy.load('en_core_web_sm', disable=['tagger', 'parser', 'matcher'])"
   ]
  },
  {
   "cell_type": "code",
   "execution_count": 13,
   "id": "d475ca5b",
   "metadata": {},
   "outputs": [
    {
     "name": "stderr",
     "output_type": "stream",
     "text": [
      "C:\\Users\\Premalatha\\anaconda3\\lib\\site-packages\\spacy\\pipeline\\lemmatizer.py:211: UserWarning: [W108] The rule-based lemmatizer did not find POS annotation for one or more tokens. Check that your pipeline includes components that assign token.pos, typically 'tagger'+'attribute_ruler' or 'morphologizer'.\n",
      "  warnings.warn(Warnings.W108)\n"
     ]
    }
   ],
   "source": [
    "# Create a new document: doc\n",
    "doc = nlp(article)\n",
    "\n",
    "# Print all of the found entities and their labels\n",
    "ner_categories = defaultdict(int)\n",
    "for ent in doc.ents:\n",
    "    ner_categories[ent.label_] += 1"
   ]
  },
  {
   "cell_type": "code",
   "execution_count": 14,
   "id": "c9a82927",
   "metadata": {},
   "outputs": [
    {
     "data": {
      "image/png": "[encoded data removed]",
      "text/plain": [
       "<Figure size 576x288 with 1 Axes>"
      ]
     },
     "metadata": {
      "needs_background": "light"
     },
     "output_type": "display_data"
    }
   ],
   "source": [
    "# Create a list from the dictionary keys for the chart labels: labels\n",
    "labels = list(ner_categories.keys())\n",
    "\n",
    "# Create a list of the values: values\n",
    "values = [ner_categories.get(v) for v in labels]\n",
    "\n",
    "# Create the pie chart\n",
    "fig, ax = plt.subplots(figsize=(8, 4))\n",
    "ax.barh(labels, values)\n",
    "ax.invert_yaxis()\n",
    "ax.set_xlabel('Count')\n",
    "ax.set_title('Named Entity Counts')\n",
    "\n",
    "# Display the chart\n",
    "plt.show()"
   ]
  },
  {
   "cell_type": "code",
   "execution_count": null,
   "id": "f0c96aa0",
   "metadata": {},
   "outputs": [],
   "source": []
  }
 ],
 "metadata": {
  "kernelspec": {
   "display_name": "Python 3 (ipykernel)",
   "language": "python",
   "name": "python3"
  },
  "language_info": {
   "codemirror_mode": {
    "name": "ipython",
    "version": 3
   },
   "file_extension": ".py",
   "mimetype": "text/x-python",
   "name": "python",
   "nbconvert_exporter": "python",
   "pygments_lexer": "ipython3",
   "version": "3.9.12"
  }
 },
 "nbformat": 4,
 "nbformat_minor": 5
}
