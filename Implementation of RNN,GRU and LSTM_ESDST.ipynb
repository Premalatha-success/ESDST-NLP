{
 "cells": [
  {
   "cell_type": "markdown",
   "id": "b533fe37",
   "metadata": {},
   "source": [
    "### Implementation of RNN,LSTM and GRU"
   ]
  },
  {
   "cell_type": "code",
   "execution_count": 6,
   "id": "47bbee04",
   "metadata": {},
   "outputs": [],
   "source": [
    "### Import the libraries\n",
    "import numpy as np\n",
    "from keras.models import Sequential\n",
    "from keras.layers import LSTM,GRU,SimpleRNN,Dense"
   ]
  },
  {
   "cell_type": "code",
   "execution_count": 7,
   "id": "b3a289e6",
   "metadata": {},
   "outputs": [],
   "source": [
    "### Load the Dataset\n",
    "from keras.datasets import mnist\n",
    "(X_train,y_train),(X_test,y_test)=mnist.load_data()"
   ]
  },
  {
   "cell_type": "code",
   "execution_count": 8,
   "id": "162ad43c",
   "metadata": {},
   "outputs": [],
   "source": [
    "### Preprocess the data\n",
    "X_train=X_train.astype('float32')/255\n",
    "X_test=X_test.astype('float32')/255\n",
    "y_train=np.eye(10)[y_train.astype('int32')]\n",
    "y_test=np.eye(10)[y_test.astype('int32')]"
   ]
  },
  {
   "cell_type": "code",
   "execution_count": 9,
   "id": "a6b8c652",
   "metadata": {},
   "outputs": [],
   "source": [
    "### Define the LSTM Model\n",
    "\n",
    "lstm_model=Sequential()\n",
    "lstm_model.add(LSTM(units=64,input_shape=(28,28),activation=\"tanh\"))\n",
    "lstm_model.add(Dense(units=10,activation=\"softmax\"))"
   ]
  },
  {
   "cell_type": "code",
   "execution_count": 11,
   "id": "5c80b1a8",
   "metadata": {},
   "outputs": [],
   "source": [
    "### Compile the LSTM Model\n",
    "lstm_model.compile(loss=\"categorical_crossentropy\",optimizer=\"adam\",metrics=[\"accuracy\"])"
   ]
  },
  {
   "cell_type": "code",
   "execution_count": 12,
   "id": "3f40413c",
   "metadata": {},
   "outputs": [],
   "source": [
    "### Define the GRU model\n",
    "\n",
    "gru_model=Sequential()\n",
    "gru_model.add(GRU(units=64,input_shape=(28,28),activation=\"tanh\"))\n",
    "gru_model.add(Dense(units=10,activation=\"softmax\"))"
   ]
  },
  {
   "cell_type": "code",
   "execution_count": 13,
   "id": "2ad47e59",
   "metadata": {},
   "outputs": [],
   "source": [
    "### Define RNN Model\n",
    "\n",
    "rnn_model=Sequential()\n",
    "rnn_model.add(SimpleRNN(units=64,input_shape=(28,28),activation=\"tanh\"))\n",
    "rnn_model.add(Dense(units=10,activation=\"softmax\"))"
   ]
  },
  {
   "cell_type": "code",
   "execution_count": 14,
   "id": "d75b6bf5",
   "metadata": {},
   "outputs": [
    {
     "name": "stdout",
     "output_type": "stream",
     "text": [
      "Epoch 1/5\n",
      "469/469 [==============================] - 51s 83ms/step - loss: 0.7003 - accuracy: 0.7738 - val_loss: 0.2431 - val_accuracy: 0.9250\n",
      "Epoch 2/5\n",
      "469/469 [==============================] - 34s 73ms/step - loss: 0.2005 - accuracy: 0.9399 - val_loss: 0.1478 - val_accuracy: 0.9561\n",
      "Epoch 3/5\n",
      "469/469 [==============================] - 33s 71ms/step - loss: 0.1338 - accuracy: 0.9604 - val_loss: 0.1120 - val_accuracy: 0.9664\n",
      "Epoch 4/5\n",
      "469/469 [==============================] - 34s 73ms/step - loss: 0.1089 - accuracy: 0.9679 - val_loss: 0.0967 - val_accuracy: 0.9712\n",
      "Epoch 5/5\n",
      "469/469 [==============================] - 35s 75ms/step - loss: 0.0860 - accuracy: 0.9747 - val_loss: 0.0827 - val_accuracy: 0.9744\n"
     ]
    },
    {
     "data": {
      "text/plain": [
       "<keras.callbacks.History at 0x1822d2edb80>"
      ]
     },
     "execution_count": 14,
     "metadata": {},
     "output_type": "execute_result"
    }
   ],
   "source": [
    "### Train the models\n",
    "\n",
    "lstm_model.fit(X_train,y_train,epochs=5,batch_size=128,validation_data=(X_test,y_test))\n"
   ]
  },
  {
   "cell_type": "code",
   "execution_count": 16,
   "id": "7fee53c6",
   "metadata": {},
   "outputs": [],
   "source": [
    "### Compile gru model\n",
    "gru_model.compile(loss=\"categorical_crossentropy\",optimizer=\"adam\",metrics=[\"accuracy\"])"
   ]
  },
  {
   "cell_type": "code",
   "execution_count": 17,
   "id": "6fc4ac44",
   "metadata": {},
   "outputs": [
    {
     "name": "stdout",
     "output_type": "stream",
     "text": [
      "Epoch 1/5\n",
      "469/469 [==============================] - 44s 72ms/step - loss: 0.8117 - accuracy: 0.7244 - val_loss: 0.2594 - val_accuracy: 0.9249\n",
      "Epoch 2/5\n",
      "469/469 [==============================] - 31s 67ms/step - loss: 0.2029 - accuracy: 0.9401 - val_loss: 0.1416 - val_accuracy: 0.9569\n",
      "Epoch 3/5\n",
      "469/469 [==============================] - 33s 70ms/step - loss: 0.1348 - accuracy: 0.9595 - val_loss: 0.1139 - val_accuracy: 0.9654\n",
      "Epoch 4/5\n",
      "469/469 [==============================] - 31s 66ms/step - loss: 0.1056 - accuracy: 0.9693 - val_loss: 0.0928 - val_accuracy: 0.9716\n",
      "Epoch 5/5\n",
      "469/469 [==============================] - 33s 70ms/step - loss: 0.0880 - accuracy: 0.9742 - val_loss: 0.0813 - val_accuracy: 0.9742\n"
     ]
    },
    {
     "data": {
      "text/plain": [
       "<keras.callbacks.History at 0x1823b5786a0>"
      ]
     },
     "execution_count": 17,
     "metadata": {},
     "output_type": "execute_result"
    }
   ],
   "source": [
    "gru_model.fit(X_train,y_train,epochs=5,batch_size=128,validation_data=(X_test,y_test))\n"
   ]
  },
  {
   "cell_type": "code",
   "execution_count": 18,
   "id": "4565c245",
   "metadata": {},
   "outputs": [],
   "source": [
    "### Compile rnn model\n",
    "rnn_model.compile(loss=\"categorical_crossentropy\",optimizer=\"adam\",metrics=[\"accuracy\"])"
   ]
  },
  {
   "cell_type": "code",
   "execution_count": 19,
   "id": "e6176797",
   "metadata": {},
   "outputs": [
    {
     "name": "stdout",
     "output_type": "stream",
     "text": [
      "Epoch 1/5\n",
      "469/469 [==============================] - 16s 25ms/step - loss: 0.6802 - accuracy: 0.7976 - val_loss: 0.4112 - val_accuracy: 0.8807\n",
      "Epoch 2/5\n",
      "469/469 [==============================] - 11s 24ms/step - loss: 0.3062 - accuracy: 0.9121 - val_loss: 0.2458 - val_accuracy: 0.9289\n",
      "Epoch 3/5\n",
      "469/469 [==============================] - 11s 24ms/step - loss: 0.2355 - accuracy: 0.9319 - val_loss: 0.2198 - val_accuracy: 0.9364\n",
      "Epoch 4/5\n",
      "469/469 [==============================] - 11s 24ms/step - loss: 0.2061 - accuracy: 0.9404 - val_loss: 0.1754 - val_accuracy: 0.9513\n",
      "Epoch 5/5\n",
      "469/469 [==============================] - 11s 24ms/step - loss: 0.1782 - accuracy: 0.9489 - val_loss: 0.1685 - val_accuracy: 0.9518\n"
     ]
    },
    {
     "data": {
      "text/plain": [
       "<keras.callbacks.History at 0x1823ded1370>"
      ]
     },
     "execution_count": 19,
     "metadata": {},
     "output_type": "execute_result"
    }
   ],
   "source": [
    "rnn_model.fit(X_train,y_train,epochs=5,batch_size=128,validation_data=(X_test,y_test))"
   ]
  },
  {
   "cell_type": "code",
   "execution_count": 20,
   "id": "d33bf82e",
   "metadata": {},
   "outputs": [
    {
     "name": "stdout",
     "output_type": "stream",
     "text": [
      "313/313 [==============================] - 5s 17ms/step - loss: 0.0827 - accuracy: 0.9744\n",
      "313/313 [==============================] - 4s 13ms/step - loss: 0.0813 - accuracy: 0.9742\n",
      "313/313 [==============================] - 3s 8ms/step - loss: 0.1685 - accuracy: 0.9518\n"
     ]
    }
   ],
   "source": [
    "### Evaluate the models\n",
    "\n",
    "lstm_loss,lstm_accuracy=lstm_model.evaluate(X_test,y_test)\n",
    "gru_loss,gru_accuracy=gru_model.evaluate(X_test,y_test)\n",
    "rnn_loss,rnn_accuracy=rnn_model.evaluate(X_test,y_test)"
   ]
  },
  {
   "cell_type": "code",
   "execution_count": 21,
   "id": "7f7307c9",
   "metadata": {},
   "outputs": [
    {
     "name": "stdout",
     "output_type": "stream",
     "text": [
      "LSTM accuracy: 0.974399983882904\n",
      "GRU accuracy: 0.9742000102996826\n",
      "RNN accuracy: 0.9517999887466431\n"
     ]
    }
   ],
   "source": [
    "### print the results\n",
    "print(\"LSTM accuracy:\",lstm_accuracy)\n",
    "print(\"GRU accuracy:\",gru_accuracy)\n",
    "print(\"RNN accuracy:\",rnn_accuracy)"
   ]
  },
  {
   "cell_type": "code",
   "execution_count": null,
   "id": "ecd22056",
   "metadata": {},
   "outputs": [],
   "source": []
  }
 ],
 "metadata": {
  "kernelspec": {
   "display_name": "Python 3 (ipykernel)",
   "language": "python",
   "name": "python3"
  },
  "language_info": {
   "codemirror_mode": {
    "name": "ipython",
    "version": 3
   },
   "file_extension": ".py",
   "mimetype": "text/x-python",
   "name": "python",
   "nbconvert_exporter": "python",
   "pygments_lexer": "ipython3",
   "version": "3.9.12"
  }
 },
 "nbformat": 4,
 "nbformat_minor": 5
}
