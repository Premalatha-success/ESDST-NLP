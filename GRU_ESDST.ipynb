{
 "cells": [
  {
   "cell_type": "markdown",
   "id": "9ba36197",
   "metadata": {},
   "source": [
    "### GRU Model"
   ]
  },
  {
   "cell_type": "code",
   "execution_count": 2,
   "id": "b5ea8259",
   "metadata": {},
   "outputs": [],
   "source": [
    "### Import the libraries\n",
    "import numpy as np\n",
    "from keras.models import Sequential\n",
    "from keras.layers import Dense,GRU"
   ]
  },
  {
   "cell_type": "code",
   "execution_count": 3,
   "id": "86090ed6",
   "metadata": {},
   "outputs": [],
   "source": [
    "### Define the Model\n",
    "model=Sequential()\n",
    "model.add(GRU(units=32,input_shape=(1,5),activation=\"relu\"))\n",
    "model.add(Dense(units=1,activation=\"sigmoid\"))"
   ]
  },
  {
   "cell_type": "code",
   "execution_count": 4,
   "id": "f25d4253",
   "metadata": {},
   "outputs": [],
   "source": [
    "### Compile the Model\n",
    "model.compile(loss=\"binary_crossentropy\",optimizer=\"adam\",metrics=[\"accuracy\"])\n"
   ]
  },
  {
   "cell_type": "code",
   "execution_count": 6,
   "id": "ba97f766",
   "metadata": {},
   "outputs": [],
   "source": [
    "### Define the Training data\n",
    "X_train=np.array([[[1,0,1,0,1]],\n",
    "                 [[0,1,0,1,0]],\n",
    "                 [[1,1,0,1,0]],\n",
    "                 [[0,1,1,1,0]]])\n",
    "y_train=np.array([0,0,1,1])"
   ]
  },
  {
   "cell_type": "code",
   "execution_count": 7,
   "id": "172784be",
   "metadata": {},
   "outputs": [
    {
     "data": {
      "text/plain": [
       "<keras.callbacks.History at 0x1929ae499a0>"
      ]
     },
     "execution_count": 7,
     "metadata": {},
     "output_type": "execute_result"
    }
   ],
   "source": [
    "### Train the model\n",
    "model.fit(X_train,y_train,epochs=100,verbose=0)"
   ]
  },
  {
   "cell_type": "code",
   "execution_count": 12,
   "id": "9e0d1f51",
   "metadata": {},
   "outputs": [],
   "source": [
    "### Test the Model\n",
    "X_test=np.array([[[0,1,0,1,0]],\n",
    "                 [[1,0,1,0,1]],\n",
    "                 [[1,1,1,1,0]],\n",
    "                 [[0,1,1,0,1]]])\n",
    "y_test=np.array([0,0,1,1])"
   ]
  },
  {
   "cell_type": "code",
   "execution_count": 13,
   "id": "adf0cd50",
   "metadata": {},
   "outputs": [
    {
     "data": {
      "text/plain": [
       "0.5"
      ]
     },
     "execution_count": 13,
     "metadata": {},
     "output_type": "execute_result"
    }
   ],
   "source": [
    "loss,accuracy=model.evaluate(X_test,y_test,verbose=0)\n",
    "accuracy"
   ]
  },
  {
   "cell_type": "code",
   "execution_count": null,
   "id": "39a3a583",
   "metadata": {},
   "outputs": [],
   "source": []
  },
  {
   "cell_type": "code",
   "execution_count": null,
   "id": "5fe20abf",
   "metadata": {},
   "outputs": [],
   "source": []
  }
 ],
 "metadata": {
  "kernelspec": {
   "display_name": "Python 3 (ipykernel)",
   "language": "python",
   "name": "python3"
  },
  "language_info": {
   "codemirror_mode": {
    "name": "ipython",
    "version": 3
   },
   "file_extension": ".py",
   "mimetype": "text/x-python",
   "name": "python",
   "nbconvert_exporter": "python",
   "pygments_lexer": "ipython3",
   "version": "3.9.12"
  }
 },
 "nbformat": 4,
 "nbformat_minor": 5
}
