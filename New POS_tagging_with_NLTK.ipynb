{
  "nbformat": 4,
  "nbformat_minor": 0,
  "metadata": {
    "kernelspec": {
      "name": "python3",
      "display_name": "Python 3"
    },
    "language_info": {
      "codemirror_mode": {
        "name": "ipython",
        "version": 3
      },
      "file_extension": ".py",
      "mimetype": "text/x-python",
      "name": "python",
      "nbconvert_exporter": "python",
      "pygments_lexer": "ipython3",
      "version": "3.6.5"
    },
    "colab": {
      "name": "POS tagging with NLTK.ipynb",
      "provenance": [],
      "collapsed_sections": []
    },
    "accelerator": "TPU"
  },
  "cells": [
    {
      "cell_type": "code",
      "metadata": {
        "id": "3keU0BXMJU4w",
        "colab_type": "code",
        "outputId": "abcfd12a-8184-4a14-d851-81179a506cf5",
        "colab": {
          "base_uri": "https://localhost:8080/",
          "height": 158
        }
      },
      "source": [
        "import nltk\n",
        "nltk.download('brown') # download the corous\n",
        "nltk.download('averaged_perceptron_tagger') # Download the tagger\n",
        "nltk.download('punkt') # download the tokenizer"
      ],
      "execution_count": 0,
      "outputs": [
        {
          "output_type": "stream",
          "text": [
            "[nltk_data] Downloading package brown to /root/nltk_data...\n",
            "[nltk_data]   Unzipping corpora/brown.zip.\n",
            "[nltk_data] Downloading package averaged_perceptron_tagger to\n",
            "[nltk_data]     /root/nltk_data...\n",
            "[nltk_data]   Unzipping taggers/averaged_perceptron_tagger.zip.\n",
            "[nltk_data] Downloading package punkt to /root/nltk_data...\n",
            "[nltk_data]   Unzipping tokenizers/punkt.zip.\n"
          ],
          "name": "stdout"
        },
        {
          "output_type": "execute_result",
          "data": {
            "text/plain": [
              "True"
            ]
          },
          "metadata": {
            "tags": []
          },
          "execution_count": 1
        }
      ]
    },
    {
      "cell_type": "code",
      "metadata": {
        "id": "MmITNZLOJU41",
        "colab_type": "code",
        "colab": {}
      },
      "source": [
        "text = nltk.word_tokenize(\"Walking is good for health.\") # Let us tokenize a sentence"
      ],
      "execution_count": 0,
      "outputs": []
    },
    {
      "cell_type": "code",
      "metadata": {
        "id": "F_Gtm6AFJU44",
        "colab_type": "code",
        "outputId": "ff8b6030-9f60-4923-fb02-eabb37d9f909",
        "colab": {
          "base_uri": "https://localhost:8080/",
          "height": 122
        }
      },
      "source": [
        "nltk.pos_tag(text) # Let us see its POS"
      ],
      "execution_count": 0,
      "outputs": [
        {
          "output_type": "execute_result",
          "data": {
            "text/plain": [
              "[('Walking', 'NN'),\n",
              " ('is', 'VBZ'),\n",
              " ('good', 'JJ'),\n",
              " ('for', 'IN'),\n",
              " ('health', 'NN'),\n",
              " ('.', '.')]"
            ]
          },
          "metadata": {
            "tags": []
          },
          "execution_count": 3
        }
      ]
    },
    {
      "cell_type": "code",
      "metadata": {
        "id": "yR7_WFyRJU46",
        "colab_type": "code",
        "colab": {}
      },
      "source": [
        "text = nltk.Text(word.lower() for word in nltk.corpus.brown.words()) # Make lower case"
      ],
      "execution_count": 0,
      "outputs": []
    },
    {
      "cell_type": "code",
      "metadata": {
        "id": "Y5g8iwRsJU49",
        "colab_type": "code",
        "outputId": "11f177af-48ce-4eeb-a033-3ff2df8dfdda",
        "colab": {
          "base_uri": "https://localhost:8080/",
          "height": 52
        }
      },
      "source": [
        "text.similar('kid') # Should be nouns like people"
      ],
      "execution_count": 0,
      "outputs": [
        {
          "output_type": "stream",
          "text": [
            "man other time house trial way place doctor world car city state one\n",
            "past children case family government south situation\n"
          ],
          "name": "stdout"
        }
      ]
    },
    {
      "cell_type": "code",
      "metadata": {
        "id": "i21ykmpOJU4_",
        "colab_type": "code",
        "outputId": "ccd2b9fd-95a2-4445-b154-0c6c43669720",
        "colab": {
          "base_uri": "https://localhost:8080/",
          "height": 52
        }
      },
      "source": [
        "text.similar('run') # Should be verbs like 'walk'"
      ],
      "execution_count": 0,
      "outputs": [
        {
          "output_type": "stream",
          "text": [
            "get be do in see work go have take make put and find time look day say\n",
            "use come show\n"
          ],
          "name": "stdout"
        }
      ]
    },
    {
      "cell_type": "code",
      "metadata": {
        "id": "A3_14niyJU5C",
        "colab_type": "code",
        "outputId": "6901ecba-f052-486e-865d-bc47909d0847",
        "colab": {
          "base_uri": "https://localhost:8080/",
          "height": 52
        }
      },
      "source": [
        "text.similar('on') # Should be prepositions"
      ],
      "execution_count": 0,
      "outputs": [
        {
          "output_type": "stream",
          "text": [
            "in of to and for at with from by as that is into but when was over\n",
            "about all through\n"
          ],
          "name": "stdout"
        }
      ]
    },
    {
      "cell_type": "code",
      "metadata": {
        "id": "EG6VIc9lJU5E",
        "colab_type": "code",
        "outputId": "3ba1b5ed-37a2-4328-9fe2-4c8617f54f2c",
        "colab": {
          "base_uri": "https://localhost:8080/",
          "height": 34
        }
      },
      "source": [
        "text.similar('cricket') # Should be either games or insects"
      ],
      "execution_count": 0,
      "outputs": [
        {
          "output_type": "stream",
          "text": [
            "and available second wonderful glass moment window formidable wicked\n"
          ],
          "name": "stdout"
        }
      ]
    },
    {
      "cell_type": "code",
      "metadata": {
        "id": "V7biePdCJU5J",
        "colab_type": "code",
        "outputId": "d3c0d6fa-db27-4d08-fe42-ef5a63db26c6",
        "colab": {
          "base_uri": "https://localhost:8080/",
          "height": 34
        }
      },
      "source": [
        "nltk.pos_tag(nltk.word_tokenize('cricket')) # Should be noun"
      ],
      "execution_count": 0,
      "outputs": [
        {
          "output_type": "execute_result",
          "data": {
            "text/plain": [
              "[('cricket', 'NN')]"
            ]
          },
          "metadata": {
            "tags": []
          },
          "execution_count": 9
        }
      ]
    },
    {
      "cell_type": "code",
      "metadata": {
        "id": "4y0wvt0ZJU5M",
        "colab_type": "code",
        "outputId": "da467160-5215-45d8-8f4e-a7da99504a71",
        "colab": {
          "base_uri": "https://localhost:8080/",
          "height": 34
        }
      },
      "source": [
        "nltk.pos_tag(nltk.word_tokenize(\"Do you want to jump\")) # Let us see if 'jump' is verb"
      ],
      "execution_count": 0,
      "outputs": [
        {
          "output_type": "execute_result",
          "data": {
            "text/plain": [
              "[('Do', 'VBP'), ('you', 'PRP'), ('want', 'VB'), ('to', 'TO'), ('jump', 'VB')]"
            ]
          },
          "metadata": {
            "tags": []
          },
          "execution_count": 10
        }
      ]
    },
    {
      "cell_type": "code",
      "metadata": {
        "id": "4cJ7JRmkJU5O",
        "colab_type": "code",
        "outputId": "07310774-a8b1-4e54-a6af-97fe3db24132",
        "colab": {
          "base_uri": "https://localhost:8080/",
          "height": 34
        }
      },
      "source": [
        "nltk.pos_tag(nltk.word_tokenize(\"That was a nice jump\")) # Let us see if 'jump' is now noun"
      ],
      "execution_count": 0,
      "outputs": [
        {
          "output_type": "execute_result",
          "data": {
            "text/plain": [
              "[('That', 'DT'), ('was', 'VBD'), ('a', 'DT'), ('nice', 'JJ'), ('jump', 'NN')]"
            ]
          },
          "metadata": {
            "tags": []
          },
          "execution_count": 11
        }
      ]
    },
    {
      "cell_type": "code",
      "metadata": {
        "id": "4YmdQU3NBe7W",
        "colab_type": "code",
        "colab": {}
      },
      "source": [
        ""
      ],
      "execution_count": 0,
      "outputs": []
    }
  ]
}